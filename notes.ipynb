{
 "cells": [
  {
   "cell_type": "markdown",
   "metadata": {},
   "source": [
    "# Summary Notes"
   ]
  },
  {
   "cell_type": "markdown",
   "metadata": {},
   "source": [
    "## Business Challenge"
   ]
  },
  {
   "cell_type": "markdown",
   "metadata": {},
   "source": [
    "<b>Aim</b>\n",
    "<br>Identify user-profiles based on TFL cycling usage data to drive a targeted marketing campaign.</br>\n",
    "\n",
    "<br><b>Theory</b>\n",
    "<br>Pairing geography with pyschology is a powerful tool for influencing behaviour.</br></br>"
   ]
  },
  {
   "cell_type": "markdown",
   "metadata": {},
   "source": [
    "## Infrastructure Requirements"
   ]
  },
  {
   "cell_type": "markdown",
   "metadata": {},
   "source": [
    "<b>Google Cloud Platform"
   ]
  },
  {
   "cell_type": "markdown",
   "metadata": {},
   "source": [
    "<li>Need to generate an API token on GCP and store it in a JSON file.</li>\n",
    "<li>Forward the absolute JSON file path to initialise the Google client in Notebook</li>\n",
    "<li>Import various Python libraries:\n",
    "    <ul>\n",
    "        <li><i>google.cloud</i> - connect to BigQuery</li>\n",
    "        <li><i>pandas</i> - data wrangling</li>\n",
    "        <li><i>os</i> - get file path</li>\n",
    "        <li><i>math</i>, <i>numpy</i> - data analysis</li>\n",
    "        <li><i>matplotlib</i> - data visualisation</li>\n",
    "        <li><i>folium</i> - HTML street map</li>\n",
    "        <li><i>sklearn, hdbscan</i> - clustering analysis</li>\n",
    "    </ul>\n",
    "</li>"
   ]
  },
  {
   "cell_type": "markdown",
   "metadata": {},
   "source": [
    "## Data Analysis"
   ]
  },
  {
   "cell_type": "markdown",
   "metadata": {},
   "source": [
    "<b>Visual Exploration"
   ]
  },
  {
   "cell_type": "markdown",
   "metadata": {},
   "source": [
    "<li>To visualise user-behaviour on a map, we have to plot co-ordinates of their journeys.</li>\n",
    "<li>This requires a SQL JOIN between 2 datasets to get the co-ordinates between stations for each hire.</li>\n",
    "<li>Trigonometry used to calculate journey distance between the 2 stations.</li>\n",
    "<li>From the duration, we can find the average speed of the journey for a particular starting station.\n",
    "    <ul><li>User speed is mapped by the size of bubbles on a street map.</li>\n",
    "        <li>User speed is mapped also by the colour of bubbles, producing a RAG chart:</li>\n",
    "        <li>small-green = \"slow\"</li>\n",
    "        <li>medium-amber = \"medium\"</li>\n",
    "        <li>big-red = \"fast\"</li>\n",
    "    </ul>\n",
    "</li>\n",
    "<li>Slow users appear to cluster around areas such as Hyde Park and Kensington on visual inspection.</li>\n",
    "<li>Faster users appear to cluster between King's Cross and City of London.</li>\n",
    "<li>May indicate the 'Leisure vs Rush' hypothesis i.e. users fit into a distinct classification system.</li>"
   ]
  },
  {
   "cell_type": "markdown",
   "metadata": {},
   "source": [
    "<b>Statistical Formalisation"
   ]
  },
  {
   "cell_type": "markdown",
   "metadata": {},
   "source": [
    "<li>Wanted to generalise where the decision-boundaries lie without manual visual inspection.</li>\n",
    "<li>Issue of \"Pigeon-hole\" principle: 500 stations and 1000 results - some data points will stack. Hard to see.</li>\n",
    "<li>No data for whether the user <b>intended</b> the journey to be \"slow/medium/fast\" so used unsupervised ML.</li>\n",
    "    <ul>\n",
    "        <li>\"fast\" users located mostly between King's Cross and Pall Mall.</li>\n",
    "        <li>\"slow\" users located mostly in W and SW London</li>\n",
    "    </ul>\n",
    "</li>"
   ]
  },
  {
   "cell_type": "markdown",
   "metadata": {},
   "source": [
    "<b>Additional Time-Dependency Considerations"
   ]
  },
  {
   "cell_type": "markdown",
   "metadata": {},
   "source": [
    "<li>In peak-summer, Hyde Park is the most popular station whereas office-area stations are more popular towards winter.</li>\n",
    "<li>Possibly reinforces the 'Leisure vs Rush' Hypothesis where users can be distinctly categorised by their journey choice.</li>"
   ]
  },
  {
   "cell_type": "markdown",
   "metadata": {},
   "source": [
    "<b>Station Popularity Distribution"
   ]
  },
  {
   "cell_type": "markdown",
   "metadata": {},
   "source": [
    "<li>The top 10 cycle stations accounted for 5% of all hires.</li>\n",
    "<li>This means they are 2.5X more popular than the average station.</li>\n",
    "<li>Some cycle stations aggregate by TFL tube station such as Hyde Park and Waterloo.</li>\n",
    "<li>The unique TFL stations are:\n",
    "    <ul>\n",
    "        <li>Hyde Park</li>\n",
    "        <li>King's Cross</li>\n",
    "        <li>The Borough</li>\n",
    "        <li>Waterloo</li>\n",
    "        <li>Liverpool Street</li>\n",
    "    </ul>\n",
    "</li>\n",
    "<li>I predict placing posters in these stations, especially for Hyde Park in summer will have the most effective impressions.</li>"
   ]
  },
  {
   "cell_type": "markdown",
   "metadata": {},
   "source": [
    "# Recommended Directives"
   ]
  },
  {
   "cell_type": "markdown",
   "metadata": {},
   "source": [
    "<b>\"The Commuter\""
   ]
  },
  {
   "cell_type": "markdown",
   "metadata": {},
   "source": [
    "<li>Appears to be a person who travels quickly around office areas and high-traffic commuting networks.</li>\n",
    "<li>Make the cycles appealing to them by fulfiling their needs of utility and convenience.</li>\n",
    "<li>Most effective stations to advertise in: King's Cross, Waterloo, Liverpool Street, The Borough</li>\n",
    "<li><i>\"Beat the Bus. Avoid traffic and reduce your commute-time by 25% on Santander cycles.\"</i></li>"
   ]
  },
  {
   "cell_type": "markdown",
   "metadata": {},
   "source": [
    "<b>\"The Park user\""
   ]
  },
  {
   "cell_type": "markdown",
   "metadata": {},
   "source": [
    "<li>Appears to be a person who chooses to use the park for leisure, especially in summer.</li>\n",
    "<li>Make the cycles appealing to them through the lens of exploring the park better.</li>\n",
    "<li>They may also be the type to appreciate the benefits of excercise.</li>\n",
    "<li>Most effective stations to advertise in will be Hyde Park (and possibly Queensway, Lancaster Gate). </li>\n",
    "<li><i>\"Nothing beats the breeze in my hair while cycling over Serpentine Bridge.\" - [Relatable Person]</i></li>\n",
    "<li><i>\"Can't get 10k steps? Try 30m of cycling with Santander at London's best green space.\"</i></li>"
   ]
  }
 ],
 "metadata": {
  "kernelspec": {
   "display_name": "Python 3",
   "language": "python",
   "name": "python3"
  },
  "language_info": {
   "codemirror_mode": {
    "name": "ipython",
    "version": 3
   },
   "file_extension": ".py",
   "mimetype": "text/x-python",
   "name": "python",
   "nbconvert_exporter": "python",
   "pygments_lexer": "ipython3",
   "version": "3.6.5"
  }
 },
 "nbformat": 4,
 "nbformat_minor": 2
}
